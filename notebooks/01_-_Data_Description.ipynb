{
 "cells": [
  {
   "cell_type": "markdown",
   "id": "0bce7674",
   "metadata": {},
   "source": [
    "# Data Description - House Rocket EDA"
   ]
  },
  {
   "cell_type": "markdown",
   "id": "953e24f0",
   "metadata": {},
   "source": [
    "## 0.0. IMPORTS"
   ]
  },
  {
   "cell_type": "code",
   "execution_count": 1,
   "id": "3b60643e",
   "metadata": {
    "ExecuteTime": {
     "end_time": "2022-03-16T23:44:52.700326Z",
     "start_time": "2022-03-16T23:44:20.923826Z"
    }
   },
   "outputs": [],
   "source": [
    "import math\n",
    "import pandas  as pd\n",
    "import numpy   as np\n",
    "import seaborn as sns\n",
    "\n",
    "from IPython.core.display  import HTML\n",
    "from matplotlib            import pyplot as plt"
   ]
  },
  {
   "cell_type": "markdown",
   "id": "1da59647",
   "metadata": {},
   "source": [
    "## 0.1. Helper Functions"
   ]
  },
  {
   "cell_type": "code",
   "execution_count": 2,
   "id": "9ec01838",
   "metadata": {
    "ExecuteTime": {
     "end_time": "2022-03-16T23:44:59.096575Z",
     "start_time": "2022-03-16T23:44:59.051474Z"
    }
   },
   "outputs": [
    {
     "data": {
      "text/html": [
       "<style>.container { width:90% !important; }</style>"
      ],
      "text/plain": [
       "<IPython.core.display.HTML object>"
      ]
     },
     "metadata": {},
     "output_type": "display_data"
    }
   ],
   "source": [
    "def jupyter_settings():\n",
    "    %matplotlib inline\n",
    "        \n",
    "    plt.style.use( 'bmh' )\n",
    "    plt.rcParams['figure.figsize'] = (20,8)\n",
    "    plt.rcParams['font.size'] = 25\n",
    "    \n",
    "    display( HTML( '<style>.container { width:90% !important; }</style>') )\n",
    "    pd.options.display.max_columns = None\n",
    "    pd.options.display.max_rows = None\n",
    "    pd.set_option( 'display.expand_frame_repr', False )\n",
    "    pd.set_option('display.float_format', lambda x: '%.3f' % x)\n",
    "    \n",
    "    sns.set()\n",
    "    sns.set_theme(style = 'darkgrid', font_scale = 2)\n",
    "    sns.set_style(\"darkgrid\")\n",
    "    sns.set(rc={'figure.figsize':(20,8)})\n",
    "\n",
    "jupyter_settings()\n",
    "    \n",
    "def numerical_attributes(data):\n",
    "    num_attributes = data.select_dtypes(include=['int64', 'float64'])\n",
    "    \n",
    "    # Central tendency = mean, median\n",
    "    ct1 = pd.DataFrame(num_attributes.apply( np.mean) )\n",
    "    ct2 = pd.DataFrame(num_attributes.apply( np.median) )\n",
    "\n",
    "    # Dispersion = std, min, max, range, skew, kurtosis\n",
    "    d1 = pd.DataFrame( num_attributes.apply( np.std ) )\n",
    "    d2 = pd.DataFrame( num_attributes.apply( min ) )\n",
    "    d3 = pd.DataFrame( num_attributes.apply( max ) )\n",
    "    d4 = pd.DataFrame( num_attributes.apply( lambda x: x.max() - x.min() ) )\n",
    "    d5 = pd.DataFrame( num_attributes.apply( lambda x: x.skew() ) )\n",
    "    d6 = pd.DataFrame( num_attributes.apply( lambda x: x.kurtosis() ) )\n",
    "\n",
    "    # Concatenate\n",
    "    m = pd.concat( [d2, d3, ct1, ct2, d1, d5, d6], axis=1 ).reset_index()\n",
    "    m.columns = ['attributes', 'min', 'max', 'mean', 'median', 'std', 'skew', 'kurtosis']\n",
    "\n",
    "    return m"
   ]
  },
  {
   "cell_type": "markdown",
   "id": "f774644c",
   "metadata": {},
   "source": [
    "## 0.2. Loading Data"
   ]
  },
  {
   "cell_type": "code",
   "execution_count": 3,
   "id": "ab66c46e",
   "metadata": {
    "ExecuteTime": {
     "end_time": "2022-03-16T23:45:01.910696Z",
     "start_time": "2022-03-16T23:45:01.274649Z"
    }
   },
   "outputs": [],
   "source": [
    "df_raw = pd.read_csv('../datasets/kc_house_data.csv', low_memory=False)"
   ]
  },
  {
   "cell_type": "markdown",
   "id": "93e23b77",
   "metadata": {},
   "source": [
    "## 1.0. DATA DESCRIPTION"
   ]
  },
  {
   "cell_type": "code",
   "execution_count": 4,
   "id": "6a142af9",
   "metadata": {
    "ExecuteTime": {
     "end_time": "2022-03-16T23:45:06.305801Z",
     "start_time": "2022-03-16T23:45:05.467262Z"
    }
   },
   "outputs": [],
   "source": [
    "df1 = df_raw.copy()"
   ]
  },
  {
   "cell_type": "code",
   "execution_count": 5,
   "id": "599825c0",
   "metadata": {
    "ExecuteTime": {
     "end_time": "2022-03-16T23:45:08.251094Z",
     "start_time": "2022-03-16T23:45:07.611186Z"
    }
   },
   "outputs": [
    {
     "data": {
      "text/html": [
       "<div>\n",
       "<style scoped>\n",
       "    .dataframe tbody tr th:only-of-type {\n",
       "        vertical-align: middle;\n",
       "    }\n",
       "\n",
       "    .dataframe tbody tr th {\n",
       "        vertical-align: top;\n",
       "    }\n",
       "\n",
       "    .dataframe thead th {\n",
       "        text-align: right;\n",
       "    }\n",
       "</style>\n",
       "<table border=\"1\" class=\"dataframe\">\n",
       "  <thead>\n",
       "    <tr style=\"text-align: right;\">\n",
       "      <th></th>\n",
       "      <th>3731</th>\n",
       "      <th>13040</th>\n",
       "      <th>18542</th>\n",
       "      <th>1680</th>\n",
       "      <th>12995</th>\n",
       "    </tr>\n",
       "  </thead>\n",
       "  <tbody>\n",
       "    <tr>\n",
       "      <th>id</th>\n",
       "      <td>2607740100</td>\n",
       "      <td>822039025</td>\n",
       "      <td>1560800110</td>\n",
       "      <td>1774220350</td>\n",
       "      <td>9211520410</td>\n",
       "    </tr>\n",
       "    <tr>\n",
       "      <th>date</th>\n",
       "      <td>20141029T000000</td>\n",
       "      <td>20150501T000000</td>\n",
       "      <td>20140617T000000</td>\n",
       "      <td>20150401T000000</td>\n",
       "      <td>20141009T000000</td>\n",
       "    </tr>\n",
       "    <tr>\n",
       "      <th>price</th>\n",
       "      <td>470000.000</td>\n",
       "      <td>777700.000</td>\n",
       "      <td>580000.000</td>\n",
       "      <td>510000.000</td>\n",
       "      <td>245000.000</td>\n",
       "    </tr>\n",
       "    <tr>\n",
       "      <th>bedrooms</th>\n",
       "      <td>4</td>\n",
       "      <td>3</td>\n",
       "      <td>5</td>\n",
       "      <td>3</td>\n",
       "      <td>3</td>\n",
       "    </tr>\n",
       "    <tr>\n",
       "      <th>bathrooms</th>\n",
       "      <td>2.500</td>\n",
       "      <td>2.500</td>\n",
       "      <td>2.000</td>\n",
       "      <td>2.250</td>\n",
       "      <td>2.500</td>\n",
       "    </tr>\n",
       "    <tr>\n",
       "      <th>sqft_living</th>\n",
       "      <td>2520</td>\n",
       "      <td>2260</td>\n",
       "      <td>2700</td>\n",
       "      <td>2370</td>\n",
       "      <td>1460</td>\n",
       "    </tr>\n",
       "    <tr>\n",
       "      <th>sqft_lot</th>\n",
       "      <td>9684</td>\n",
       "      <td>251460</td>\n",
       "      <td>10875</td>\n",
       "      <td>38639</td>\n",
       "      <td>11593</td>\n",
       "    </tr>\n",
       "    <tr>\n",
       "      <th>floors</th>\n",
       "      <td>2.000</td>\n",
       "      <td>1.500</td>\n",
       "      <td>1.000</td>\n",
       "      <td>1.000</td>\n",
       "      <td>2.000</td>\n",
       "    </tr>\n",
       "    <tr>\n",
       "      <th>waterfront</th>\n",
       "      <td>0</td>\n",
       "      <td>0</td>\n",
       "      <td>0</td>\n",
       "      <td>0</td>\n",
       "      <td>0</td>\n",
       "    </tr>\n",
       "    <tr>\n",
       "      <th>view</th>\n",
       "      <td>0</td>\n",
       "      <td>0</td>\n",
       "      <td>0</td>\n",
       "      <td>0</td>\n",
       "      <td>0</td>\n",
       "    </tr>\n",
       "    <tr>\n",
       "      <th>condition</th>\n",
       "      <td>3</td>\n",
       "      <td>3</td>\n",
       "      <td>4</td>\n",
       "      <td>3</td>\n",
       "      <td>3</td>\n",
       "    </tr>\n",
       "    <tr>\n",
       "      <th>grade</th>\n",
       "      <td>8</td>\n",
       "      <td>10</td>\n",
       "      <td>7</td>\n",
       "      <td>8</td>\n",
       "      <td>7</td>\n",
       "    </tr>\n",
       "    <tr>\n",
       "      <th>sqft_above</th>\n",
       "      <td>2520</td>\n",
       "      <td>2260</td>\n",
       "      <td>1540</td>\n",
       "      <td>1930</td>\n",
       "      <td>1460</td>\n",
       "    </tr>\n",
       "    <tr>\n",
       "      <th>sqft_basement</th>\n",
       "      <td>0</td>\n",
       "      <td>0</td>\n",
       "      <td>1160</td>\n",
       "      <td>440</td>\n",
       "      <td>0</td>\n",
       "    </tr>\n",
       "    <tr>\n",
       "      <th>yr_built</th>\n",
       "      <td>1994</td>\n",
       "      <td>1995</td>\n",
       "      <td>1962</td>\n",
       "      <td>1978</td>\n",
       "      <td>1989</td>\n",
       "    </tr>\n",
       "    <tr>\n",
       "      <th>yr_renovated</th>\n",
       "      <td>0</td>\n",
       "      <td>0</td>\n",
       "      <td>0</td>\n",
       "      <td>0</td>\n",
       "      <td>0</td>\n",
       "    </tr>\n",
       "    <tr>\n",
       "      <th>zipcode</th>\n",
       "      <td>98045</td>\n",
       "      <td>98070</td>\n",
       "      <td>98007</td>\n",
       "      <td>98077</td>\n",
       "      <td>98023</td>\n",
       "    </tr>\n",
       "    <tr>\n",
       "      <th>lat</th>\n",
       "      <td>47.485</td>\n",
       "      <td>47.410</td>\n",
       "      <td>47.616</td>\n",
       "      <td>47.771</td>\n",
       "      <td>47.298</td>\n",
       "    </tr>\n",
       "    <tr>\n",
       "      <th>long</th>\n",
       "      <td>-121.801</td>\n",
       "      <td>-122.449</td>\n",
       "      <td>-122.138</td>\n",
       "      <td>-122.099</td>\n",
       "      <td>-122.385</td>\n",
       "    </tr>\n",
       "    <tr>\n",
       "      <th>sqft_living15</th>\n",
       "      <td>2090</td>\n",
       "      <td>1610</td>\n",
       "      <td>2040</td>\n",
       "      <td>2900</td>\n",
       "      <td>1640</td>\n",
       "    </tr>\n",
       "    <tr>\n",
       "      <th>sqft_lot15</th>\n",
       "      <td>10133</td>\n",
       "      <td>244372</td>\n",
       "      <td>7464</td>\n",
       "      <td>37452</td>\n",
       "      <td>9703</td>\n",
       "    </tr>\n",
       "  </tbody>\n",
       "</table>\n",
       "</div>"
      ],
      "text/plain": [
       "                         3731             13040            18542            1680             12995\n",
       "id                  2607740100        822039025       1560800110       1774220350       9211520410\n",
       "date           20141029T000000  20150501T000000  20140617T000000  20150401T000000  20141009T000000\n",
       "price               470000.000       777700.000       580000.000       510000.000       245000.000\n",
       "bedrooms                     4                3                5                3                3\n",
       "bathrooms                2.500            2.500            2.000            2.250            2.500\n",
       "sqft_living               2520             2260             2700             2370             1460\n",
       "sqft_lot                  9684           251460            10875            38639            11593\n",
       "floors                   2.000            1.500            1.000            1.000            2.000\n",
       "waterfront                   0                0                0                0                0\n",
       "view                         0                0                0                0                0\n",
       "condition                    3                3                4                3                3\n",
       "grade                        8               10                7                8                7\n",
       "sqft_above                2520             2260             1540             1930             1460\n",
       "sqft_basement                0                0             1160              440                0\n",
       "yr_built                  1994             1995             1962             1978             1989\n",
       "yr_renovated                 0                0                0                0                0\n",
       "zipcode                  98045            98070            98007            98077            98023\n",
       "lat                     47.485           47.410           47.616           47.771           47.298\n",
       "long                  -121.801         -122.449         -122.138         -122.099         -122.385\n",
       "sqft_living15             2090             1610             2040             2900             1640\n",
       "sqft_lot15               10133           244372             7464            37452             9703"
      ]
     },
     "execution_count": 5,
     "metadata": {},
     "output_type": "execute_result"
    }
   ],
   "source": [
    "df1.sample(5).T"
   ]
  },
  {
   "cell_type": "markdown",
   "id": "eeef3ce0",
   "metadata": {},
   "source": [
    "## 1.1. Data Dimensions"
   ]
  },
  {
   "cell_type": "code",
   "execution_count": 6,
   "id": "df871b83",
   "metadata": {
    "ExecuteTime": {
     "end_time": "2022-03-16T23:45:11.136324Z",
     "start_time": "2022-03-16T23:45:11.123358Z"
    }
   },
   "outputs": [
    {
     "name": "stdout",
     "output_type": "stream",
     "text": [
      "Number of rows: 21613\n",
      "Number of cols: 21\n"
     ]
    }
   ],
   "source": [
    "print( 'Number of rows: {}'.format( df1.shape[0] ) )\n",
    "print( 'Number of cols: {}'.format( df1.shape[1] ) )"
   ]
  },
  {
   "cell_type": "markdown",
   "id": "3397754b",
   "metadata": {},
   "source": [
    "## 1.2. Data Types"
   ]
  },
  {
   "cell_type": "code",
   "execution_count": 7,
   "id": "09887d97",
   "metadata": {
    "ExecuteTime": {
     "end_time": "2022-03-16T23:45:13.671347Z",
     "start_time": "2022-03-16T23:45:13.561155Z"
    }
   },
   "outputs": [
    {
     "data": {
      "text/plain": [
       "id                        int64\n",
       "date             datetime64[ns]\n",
       "price                   float64\n",
       "bedrooms                  int64\n",
       "bathrooms               float64\n",
       "sqft_living               int64\n",
       "sqft_lot                  int64\n",
       "floors                  float64\n",
       "waterfront                int64\n",
       "view                      int64\n",
       "condition                 int64\n",
       "grade                     int64\n",
       "sqft_above                int64\n",
       "sqft_basement             int64\n",
       "yr_built                  int64\n",
       "yr_renovated              int64\n",
       "zipcode                   int64\n",
       "lat                     float64\n",
       "long                    float64\n",
       "sqft_living15             int64\n",
       "sqft_lot15                int64\n",
       "dtype: object"
      ]
     },
     "execution_count": 7,
     "metadata": {},
     "output_type": "execute_result"
    }
   ],
   "source": [
    "df1['date'] = pd.to_datetime( df1['date'] )\n",
    "df1.dtypes"
   ]
  },
  {
   "cell_type": "markdown",
   "id": "2cf53972",
   "metadata": {},
   "source": [
    "## 1.3. Check NA"
   ]
  },
  {
   "cell_type": "code",
   "execution_count": 8,
   "id": "03868ff1",
   "metadata": {
    "ExecuteTime": {
     "end_time": "2022-03-16T23:45:16.716062Z",
     "start_time": "2022-03-16T23:45:16.666331Z"
    }
   },
   "outputs": [
    {
     "data": {
      "text/plain": [
       "id               0\n",
       "date             0\n",
       "price            0\n",
       "bedrooms         0\n",
       "bathrooms        0\n",
       "sqft_living      0\n",
       "sqft_lot         0\n",
       "floors           0\n",
       "waterfront       0\n",
       "view             0\n",
       "condition        0\n",
       "grade            0\n",
       "sqft_above       0\n",
       "sqft_basement    0\n",
       "yr_built         0\n",
       "yr_renovated     0\n",
       "zipcode          0\n",
       "lat              0\n",
       "long             0\n",
       "sqft_living15    0\n",
       "sqft_lot15       0\n",
       "dtype: int64"
      ]
     },
     "execution_count": 8,
     "metadata": {},
     "output_type": "execute_result"
    }
   ],
   "source": [
    "df1.isna().sum()"
   ]
  },
  {
   "cell_type": "markdown",
   "id": "392aea83",
   "metadata": {},
   "source": [
    "## 1.4. Descriptive Statistics"
   ]
  },
  {
   "cell_type": "markdown",
   "id": "7ca09f60",
   "metadata": {},
   "source": [
    "### 1.7.1. Numerical Attributes"
   ]
  },
  {
   "cell_type": "code",
   "execution_count": 9,
   "id": "3f7c25b3",
   "metadata": {
    "ExecuteTime": {
     "end_time": "2022-03-16T23:45:21.146723Z",
     "start_time": "2022-03-16T23:45:20.675435Z"
    }
   },
   "outputs": [
    {
     "data": {
      "text/html": [
       "<div>\n",
       "<style scoped>\n",
       "    .dataframe tbody tr th:only-of-type {\n",
       "        vertical-align: middle;\n",
       "    }\n",
       "\n",
       "    .dataframe tbody tr th {\n",
       "        vertical-align: top;\n",
       "    }\n",
       "\n",
       "    .dataframe thead th {\n",
       "        text-align: right;\n",
       "    }\n",
       "</style>\n",
       "<table border=\"1\" class=\"dataframe\">\n",
       "  <thead>\n",
       "    <tr style=\"text-align: right;\">\n",
       "      <th></th>\n",
       "      <th>attributes</th>\n",
       "      <th>min</th>\n",
       "      <th>max</th>\n",
       "      <th>mean</th>\n",
       "      <th>median</th>\n",
       "      <th>std</th>\n",
       "      <th>skew</th>\n",
       "      <th>kurtosis</th>\n",
       "    </tr>\n",
       "  </thead>\n",
       "  <tbody>\n",
       "    <tr>\n",
       "      <th>0</th>\n",
       "      <td>id</td>\n",
       "      <td>1000102.000</td>\n",
       "      <td>9900000190.000</td>\n",
       "      <td>4580301520.865</td>\n",
       "      <td>3904930410.000</td>\n",
       "      <td>2876499023.428</td>\n",
       "      <td>0.243</td>\n",
       "      <td>-1.261</td>\n",
       "    </tr>\n",
       "    <tr>\n",
       "      <th>1</th>\n",
       "      <td>price</td>\n",
       "      <td>75000.000</td>\n",
       "      <td>7700000.000</td>\n",
       "      <td>540088.142</td>\n",
       "      <td>450000.000</td>\n",
       "      <td>367118.703</td>\n",
       "      <td>4.024</td>\n",
       "      <td>34.586</td>\n",
       "    </tr>\n",
       "    <tr>\n",
       "      <th>2</th>\n",
       "      <td>bedrooms</td>\n",
       "      <td>0.000</td>\n",
       "      <td>33.000</td>\n",
       "      <td>3.371</td>\n",
       "      <td>3.000</td>\n",
       "      <td>0.930</td>\n",
       "      <td>1.974</td>\n",
       "      <td>49.064</td>\n",
       "    </tr>\n",
       "    <tr>\n",
       "      <th>3</th>\n",
       "      <td>bathrooms</td>\n",
       "      <td>0.000</td>\n",
       "      <td>8.000</td>\n",
       "      <td>2.115</td>\n",
       "      <td>2.250</td>\n",
       "      <td>0.770</td>\n",
       "      <td>0.511</td>\n",
       "      <td>1.280</td>\n",
       "    </tr>\n",
       "    <tr>\n",
       "      <th>4</th>\n",
       "      <td>sqft_living</td>\n",
       "      <td>290.000</td>\n",
       "      <td>13540.000</td>\n",
       "      <td>2079.900</td>\n",
       "      <td>1910.000</td>\n",
       "      <td>918.420</td>\n",
       "      <td>1.472</td>\n",
       "      <td>5.243</td>\n",
       "    </tr>\n",
       "    <tr>\n",
       "      <th>5</th>\n",
       "      <td>sqft_lot</td>\n",
       "      <td>520.000</td>\n",
       "      <td>1651359.000</td>\n",
       "      <td>15106.968</td>\n",
       "      <td>7618.000</td>\n",
       "      <td>41419.553</td>\n",
       "      <td>13.060</td>\n",
       "      <td>285.078</td>\n",
       "    </tr>\n",
       "    <tr>\n",
       "      <th>6</th>\n",
       "      <td>floors</td>\n",
       "      <td>1.000</td>\n",
       "      <td>3.500</td>\n",
       "      <td>1.494</td>\n",
       "      <td>1.500</td>\n",
       "      <td>0.540</td>\n",
       "      <td>0.616</td>\n",
       "      <td>-0.485</td>\n",
       "    </tr>\n",
       "    <tr>\n",
       "      <th>7</th>\n",
       "      <td>waterfront</td>\n",
       "      <td>0.000</td>\n",
       "      <td>1.000</td>\n",
       "      <td>0.008</td>\n",
       "      <td>0.000</td>\n",
       "      <td>0.087</td>\n",
       "      <td>11.385</td>\n",
       "      <td>127.632</td>\n",
       "    </tr>\n",
       "    <tr>\n",
       "      <th>8</th>\n",
       "      <td>view</td>\n",
       "      <td>0.000</td>\n",
       "      <td>4.000</td>\n",
       "      <td>0.234</td>\n",
       "      <td>0.000</td>\n",
       "      <td>0.766</td>\n",
       "      <td>3.396</td>\n",
       "      <td>10.893</td>\n",
       "    </tr>\n",
       "    <tr>\n",
       "      <th>9</th>\n",
       "      <td>condition</td>\n",
       "      <td>1.000</td>\n",
       "      <td>5.000</td>\n",
       "      <td>3.409</td>\n",
       "      <td>3.000</td>\n",
       "      <td>0.651</td>\n",
       "      <td>1.033</td>\n",
       "      <td>0.526</td>\n",
       "    </tr>\n",
       "    <tr>\n",
       "      <th>10</th>\n",
       "      <td>grade</td>\n",
       "      <td>1.000</td>\n",
       "      <td>13.000</td>\n",
       "      <td>7.657</td>\n",
       "      <td>7.000</td>\n",
       "      <td>1.175</td>\n",
       "      <td>0.771</td>\n",
       "      <td>1.191</td>\n",
       "    </tr>\n",
       "    <tr>\n",
       "      <th>11</th>\n",
       "      <td>sqft_above</td>\n",
       "      <td>290.000</td>\n",
       "      <td>9410.000</td>\n",
       "      <td>1788.391</td>\n",
       "      <td>1560.000</td>\n",
       "      <td>828.072</td>\n",
       "      <td>1.447</td>\n",
       "      <td>3.402</td>\n",
       "    </tr>\n",
       "    <tr>\n",
       "      <th>12</th>\n",
       "      <td>sqft_basement</td>\n",
       "      <td>0.000</td>\n",
       "      <td>4820.000</td>\n",
       "      <td>291.509</td>\n",
       "      <td>0.000</td>\n",
       "      <td>442.565</td>\n",
       "      <td>1.578</td>\n",
       "      <td>2.716</td>\n",
       "    </tr>\n",
       "    <tr>\n",
       "      <th>13</th>\n",
       "      <td>yr_built</td>\n",
       "      <td>1900.000</td>\n",
       "      <td>2015.000</td>\n",
       "      <td>1971.005</td>\n",
       "      <td>1975.000</td>\n",
       "      <td>29.373</td>\n",
       "      <td>-0.470</td>\n",
       "      <td>-0.657</td>\n",
       "    </tr>\n",
       "    <tr>\n",
       "      <th>14</th>\n",
       "      <td>yr_renovated</td>\n",
       "      <td>0.000</td>\n",
       "      <td>2015.000</td>\n",
       "      <td>84.402</td>\n",
       "      <td>0.000</td>\n",
       "      <td>401.670</td>\n",
       "      <td>4.549</td>\n",
       "      <td>18.701</td>\n",
       "    </tr>\n",
       "    <tr>\n",
       "      <th>15</th>\n",
       "      <td>zipcode</td>\n",
       "      <td>98001.000</td>\n",
       "      <td>98199.000</td>\n",
       "      <td>98077.940</td>\n",
       "      <td>98065.000</td>\n",
       "      <td>53.504</td>\n",
       "      <td>0.406</td>\n",
       "      <td>-0.853</td>\n",
       "    </tr>\n",
       "    <tr>\n",
       "      <th>16</th>\n",
       "      <td>lat</td>\n",
       "      <td>47.156</td>\n",
       "      <td>47.778</td>\n",
       "      <td>47.560</td>\n",
       "      <td>47.572</td>\n",
       "      <td>0.139</td>\n",
       "      <td>-0.485</td>\n",
       "      <td>-0.676</td>\n",
       "    </tr>\n",
       "    <tr>\n",
       "      <th>17</th>\n",
       "      <td>long</td>\n",
       "      <td>-122.519</td>\n",
       "      <td>-121.315</td>\n",
       "      <td>-122.214</td>\n",
       "      <td>-122.230</td>\n",
       "      <td>0.141</td>\n",
       "      <td>0.885</td>\n",
       "      <td>1.050</td>\n",
       "    </tr>\n",
       "    <tr>\n",
       "      <th>18</th>\n",
       "      <td>sqft_living15</td>\n",
       "      <td>399.000</td>\n",
       "      <td>6210.000</td>\n",
       "      <td>1986.552</td>\n",
       "      <td>1840.000</td>\n",
       "      <td>685.375</td>\n",
       "      <td>1.108</td>\n",
       "      <td>1.597</td>\n",
       "    </tr>\n",
       "    <tr>\n",
       "      <th>19</th>\n",
       "      <td>sqft_lot15</td>\n",
       "      <td>651.000</td>\n",
       "      <td>871200.000</td>\n",
       "      <td>12768.456</td>\n",
       "      <td>7620.000</td>\n",
       "      <td>27303.548</td>\n",
       "      <td>9.507</td>\n",
       "      <td>150.763</td>\n",
       "    </tr>\n",
       "  </tbody>\n",
       "</table>\n",
       "</div>"
      ],
      "text/plain": [
       "       attributes         min            max           mean         median            std   skew  kurtosis\n",
       "0              id 1000102.000 9900000190.000 4580301520.865 3904930410.000 2876499023.428  0.243    -1.261\n",
       "1           price   75000.000    7700000.000     540088.142     450000.000     367118.703  4.024    34.586\n",
       "2        bedrooms       0.000         33.000          3.371          3.000          0.930  1.974    49.064\n",
       "3       bathrooms       0.000          8.000          2.115          2.250          0.770  0.511     1.280\n",
       "4     sqft_living     290.000      13540.000       2079.900       1910.000        918.420  1.472     5.243\n",
       "5        sqft_lot     520.000    1651359.000      15106.968       7618.000      41419.553 13.060   285.078\n",
       "6          floors       1.000          3.500          1.494          1.500          0.540  0.616    -0.485\n",
       "7      waterfront       0.000          1.000          0.008          0.000          0.087 11.385   127.632\n",
       "8            view       0.000          4.000          0.234          0.000          0.766  3.396    10.893\n",
       "9       condition       1.000          5.000          3.409          3.000          0.651  1.033     0.526\n",
       "10          grade       1.000         13.000          7.657          7.000          1.175  0.771     1.191\n",
       "11     sqft_above     290.000       9410.000       1788.391       1560.000        828.072  1.447     3.402\n",
       "12  sqft_basement       0.000       4820.000        291.509          0.000        442.565  1.578     2.716\n",
       "13       yr_built    1900.000       2015.000       1971.005       1975.000         29.373 -0.470    -0.657\n",
       "14   yr_renovated       0.000       2015.000         84.402          0.000        401.670  4.549    18.701\n",
       "15        zipcode   98001.000      98199.000      98077.940      98065.000         53.504  0.406    -0.853\n",
       "16            lat      47.156         47.778         47.560         47.572          0.139 -0.485    -0.676\n",
       "17           long    -122.519       -121.315       -122.214       -122.230          0.141  0.885     1.050\n",
       "18  sqft_living15     399.000       6210.000       1986.552       1840.000        685.375  1.108     1.597\n",
       "19     sqft_lot15     651.000     871200.000      12768.456       7620.000      27303.548  9.507   150.763"
      ]
     },
     "execution_count": 9,
     "metadata": {},
     "output_type": "execute_result"
    }
   ],
   "source": [
    "numerical_attributes(df1)"
   ]
  },
  {
   "cell_type": "code",
   "execution_count": 11,
   "id": "a04c2704",
   "metadata": {
    "ExecuteTime": {
     "end_time": "2022-03-16T23:45:33.476577Z",
     "start_time": "2022-03-16T23:45:32.978986Z"
    }
   },
   "outputs": [
    {
     "name": "stderr",
     "output_type": "stream",
     "text": [
      "C:\\Users\\Nelio\\anaconda3\\envs\\HouseRocketInsightProject\\lib\\site-packages\\seaborn\\distributions.py:2557: FutureWarning: `distplot` is a deprecated function and will be removed in a future version. Please adapt your code to use either `displot` (a figure-level function with similar flexibility) or `histplot` (an axes-level function for histograms).\n",
      "  warnings.warn(msg, FutureWarning)\n"
     ]
    },
    {
     "data": {
      "image/png": "[encoded data removed]",
      "text/plain": [
       "<Figure size 1440x576 with 1 Axes>"
      ]
     },
     "metadata": {},
     "output_type": "display_data"
    }
   ],
   "source": [
    "# Visualize data distribution by price\n",
    "sns.distplot( df1['price'] );"
   ]
  },
  {
   "cell_type": "markdown",
   "id": "b0dc7f76",
   "metadata": {},
   "source": [
    "### 1.7.2. Checking Attributes"
   ]
  },
  {
   "cell_type": "code",
   "execution_count": 12,
   "id": "92bfd099",
   "metadata": {
    "ExecuteTime": {
     "end_time": "2022-03-16T23:45:39.137982Z",
     "start_time": "2022-03-16T23:45:38.546408Z"
    }
   },
   "outputs": [
    {
     "data": {
      "text/plain": [
       "<AxesSubplot:xlabel='bedrooms', ylabel='sqft_living'>"
      ]
     },
     "execution_count": 12,
     "metadata": {},
     "output_type": "execute_result"
    },
    {
     "data": {
      "image/png": "[encoded data removed]",
      "text/plain": [
       "<Figure size 1440x576 with 1 Axes>"
      ]
     },
     "metadata": {},
     "output_type": "display_data"
    }
   ],
   "source": [
    "# Visualize number of bedrooms distribution by living area squarefeet\n",
    "sns.boxplot( x='bedrooms', y='sqft_living', data=df1)"
   ]
  },
  {
   "cell_type": "code",
   "execution_count": 13,
   "id": "2e4a63d9",
   "metadata": {
    "ExecuteTime": {
     "end_time": "2022-03-16T23:45:44.899733Z",
     "start_time": "2022-03-16T23:45:44.515273Z"
    }
   },
   "outputs": [
    {
     "data": {
      "text/plain": [
       "<BarContainer object of 2 artists>"
      ]
     },
     "execution_count": 13,
     "metadata": {},
     "output_type": "execute_result"
    },
    {
     "data": {
      "image/png": "[encoded data removed]",
      "text/plain": [
       "<Figure size 1440x576 with 1 Axes>"
      ]
     },
     "metadata": {},
     "output_type": "display_data"
    }
   ],
   "source": [
    "# Compare the mean of living area squarefeet between houses with 3 and 33 bedrooms\n",
    "aux1 = df1[['bedrooms', 'sqft_living']][(df1['bedrooms'] == 3) | (df1['bedrooms'] == 33) ]\n",
    "aux1 = aux1.groupby('bedrooms').mean().reset_index()\n",
    "aux1['bedrooms'] = aux1['bedrooms'].astype( str )\n",
    "\n",
    "plt.bar(aux1['bedrooms'], aux1['sqft_living'])"
   ]
  },
  {
   "cell_type": "code",
   "execution_count": 14,
   "id": "684e8a95",
   "metadata": {
    "ExecuteTime": {
     "end_time": "2022-03-16T23:47:04.796934Z",
     "start_time": "2022-03-16T23:47:04.754470Z"
    }
   },
   "outputs": [],
   "source": [
    "# Remove data with the number of 33 bedrooms due to error input -> 1 row\n",
    "df1 = df1.drop( df1[df1.bedrooms == 33].index )"
   ]
  },
  {
   "cell_type": "code",
   "execution_count": 15,
   "id": "cc020d95",
   "metadata": {
    "ExecuteTime": {
     "end_time": "2022-03-16T23:47:10.440056Z",
     "start_time": "2022-03-16T23:47:10.427133Z"
    }
   },
   "outputs": [],
   "source": [
    "# Remove data with no input of number of bathrooms -> 10 rows\n",
    "df1 = df1.drop( df1[df1.bathrooms == 0].index )"
   ]
  },
  {
   "cell_type": "code",
   "execution_count": 25,
   "id": "243b4005",
   "metadata": {
    "ExecuteTime": {
     "end_time": "2022-03-16T23:50:53.273283Z",
     "start_time": "2022-03-16T23:50:53.258115Z"
    }
   },
   "outputs": [],
   "source": [
    "# Remove data with no input of number of bedrooms -> 6 rows\n",
    "df1 = df1.drop( df1[df1.bedrooms == 0].index )"
   ]
  },
  {
   "cell_type": "code",
   "execution_count": 26,
   "id": "6c54f697",
   "metadata": {
    "ExecuteTime": {
     "end_time": "2022-03-16T23:50:56.019864Z",
     "start_time": "2022-03-16T23:50:55.884475Z"
    }
   },
   "outputs": [
    {
     "data": {
      "text/html": [
       "<div>\n",
       "<style scoped>\n",
       "    .dataframe tbody tr th:only-of-type {\n",
       "        vertical-align: middle;\n",
       "    }\n",
       "\n",
       "    .dataframe tbody tr th {\n",
       "        vertical-align: top;\n",
       "    }\n",
       "\n",
       "    .dataframe thead th {\n",
       "        text-align: right;\n",
       "    }\n",
       "</style>\n",
       "<table border=\"1\" class=\"dataframe\">\n",
       "  <thead>\n",
       "    <tr style=\"text-align: right;\">\n",
       "      <th></th>\n",
       "      <th>attributes</th>\n",
       "      <th>min</th>\n",
       "      <th>max</th>\n",
       "      <th>mean</th>\n",
       "      <th>median</th>\n",
       "      <th>std</th>\n",
       "      <th>skew</th>\n",
       "      <th>kurtosis</th>\n",
       "    </tr>\n",
       "  </thead>\n",
       "  <tbody>\n",
       "    <tr>\n",
       "      <th>0</th>\n",
       "      <td>id</td>\n",
       "      <td>1000102.000</td>\n",
       "      <td>9900000190.000</td>\n",
       "      <td>4580575157.071</td>\n",
       "      <td>3904930470.000</td>\n",
       "      <td>2876697522.696</td>\n",
       "      <td>0.243</td>\n",
       "      <td>-1.261</td>\n",
       "    </tr>\n",
       "    <tr>\n",
       "      <th>1</th>\n",
       "      <td>price</td>\n",
       "      <td>78000.000</td>\n",
       "      <td>7700000.000</td>\n",
       "      <td>540198.299</td>\n",
       "      <td>450000.000</td>\n",
       "      <td>367133.103</td>\n",
       "      <td>4.026</td>\n",
       "      <td>34.603</td>\n",
       "    </tr>\n",
       "    <tr>\n",
       "      <th>2</th>\n",
       "      <td>bedrooms</td>\n",
       "      <td>1.000</td>\n",
       "      <td>11.000</td>\n",
       "      <td>3.372</td>\n",
       "      <td>3.000</td>\n",
       "      <td>0.904</td>\n",
       "      <td>0.551</td>\n",
       "      <td>1.797</td>\n",
       "    </tr>\n",
       "    <tr>\n",
       "      <th>3</th>\n",
       "      <td>bathrooms</td>\n",
       "      <td>0.500</td>\n",
       "      <td>8.000</td>\n",
       "      <td>2.116</td>\n",
       "      <td>2.250</td>\n",
       "      <td>0.769</td>\n",
       "      <td>0.520</td>\n",
       "      <td>1.279</td>\n",
       "    </tr>\n",
       "    <tr>\n",
       "      <th>4</th>\n",
       "      <td>sqft_living</td>\n",
       "      <td>370.000</td>\n",
       "      <td>13540.000</td>\n",
       "      <td>2080.343</td>\n",
       "      <td>1910.000</td>\n",
       "      <td>918.101</td>\n",
       "      <td>1.473</td>\n",
       "      <td>5.252</td>\n",
       "    </tr>\n",
       "    <tr>\n",
       "      <th>5</th>\n",
       "      <td>sqft_lot</td>\n",
       "      <td>520.000</td>\n",
       "      <td>1651359.000</td>\n",
       "      <td>15099.830</td>\n",
       "      <td>7619.000</td>\n",
       "      <td>41412.591</td>\n",
       "      <td>13.072</td>\n",
       "      <td>285.483</td>\n",
       "    </tr>\n",
       "    <tr>\n",
       "      <th>6</th>\n",
       "      <td>floors</td>\n",
       "      <td>1.000</td>\n",
       "      <td>3.500</td>\n",
       "      <td>1.494</td>\n",
       "      <td>1.500</td>\n",
       "      <td>0.540</td>\n",
       "      <td>0.614</td>\n",
       "      <td>-0.491</td>\n",
       "    </tr>\n",
       "    <tr>\n",
       "      <th>7</th>\n",
       "      <td>waterfront</td>\n",
       "      <td>0.000</td>\n",
       "      <td>1.000</td>\n",
       "      <td>0.008</td>\n",
       "      <td>0.000</td>\n",
       "      <td>0.087</td>\n",
       "      <td>11.381</td>\n",
       "      <td>127.528</td>\n",
       "    </tr>\n",
       "    <tr>\n",
       "      <th>8</th>\n",
       "      <td>view</td>\n",
       "      <td>0.000</td>\n",
       "      <td>4.000</td>\n",
       "      <td>0.234</td>\n",
       "      <td>0.000</td>\n",
       "      <td>0.766</td>\n",
       "      <td>3.396</td>\n",
       "      <td>10.895</td>\n",
       "    </tr>\n",
       "    <tr>\n",
       "      <th>9</th>\n",
       "      <td>condition</td>\n",
       "      <td>1.000</td>\n",
       "      <td>5.000</td>\n",
       "      <td>3.410</td>\n",
       "      <td>3.000</td>\n",
       "      <td>0.650</td>\n",
       "      <td>1.036</td>\n",
       "      <td>0.520</td>\n",
       "    </tr>\n",
       "    <tr>\n",
       "      <th>10</th>\n",
       "      <td>grade</td>\n",
       "      <td>3.000</td>\n",
       "      <td>13.000</td>\n",
       "      <td>7.658</td>\n",
       "      <td>7.000</td>\n",
       "      <td>1.173</td>\n",
       "      <td>0.788</td>\n",
       "      <td>1.135</td>\n",
       "    </tr>\n",
       "    <tr>\n",
       "      <th>11</th>\n",
       "      <td>sqft_above</td>\n",
       "      <td>370.000</td>\n",
       "      <td>9410.000</td>\n",
       "      <td>1788.632</td>\n",
       "      <td>1560.000</td>\n",
       "      <td>827.744</td>\n",
       "      <td>1.447</td>\n",
       "      <td>3.405</td>\n",
       "    </tr>\n",
       "    <tr>\n",
       "      <th>12</th>\n",
       "      <td>sqft_basement</td>\n",
       "      <td>0.000</td>\n",
       "      <td>4820.000</td>\n",
       "      <td>291.712</td>\n",
       "      <td>0.000</td>\n",
       "      <td>442.663</td>\n",
       "      <td>1.577</td>\n",
       "      <td>2.712</td>\n",
       "    </tr>\n",
       "    <tr>\n",
       "      <th>13</th>\n",
       "      <td>yr_built</td>\n",
       "      <td>1900.000</td>\n",
       "      <td>2015.000</td>\n",
       "      <td>1971.001</td>\n",
       "      <td>1975.000</td>\n",
       "      <td>29.375</td>\n",
       "      <td>-0.470</td>\n",
       "      <td>-0.658</td>\n",
       "    </tr>\n",
       "    <tr>\n",
       "      <th>14</th>\n",
       "      <td>yr_renovated</td>\n",
       "      <td>0.000</td>\n",
       "      <td>2015.000</td>\n",
       "      <td>84.469</td>\n",
       "      <td>0.000</td>\n",
       "      <td>401.821</td>\n",
       "      <td>4.547</td>\n",
       "      <td>18.683</td>\n",
       "    </tr>\n",
       "    <tr>\n",
       "      <th>15</th>\n",
       "      <td>zipcode</td>\n",
       "      <td>98001.000</td>\n",
       "      <td>98199.000</td>\n",
       "      <td>98077.951</td>\n",
       "      <td>98065.000</td>\n",
       "      <td>53.513</td>\n",
       "      <td>0.405</td>\n",
       "      <td>-0.854</td>\n",
       "    </tr>\n",
       "    <tr>\n",
       "      <th>16</th>\n",
       "      <td>lat</td>\n",
       "      <td>47.156</td>\n",
       "      <td>47.778</td>\n",
       "      <td>47.560</td>\n",
       "      <td>47.572</td>\n",
       "      <td>0.139</td>\n",
       "      <td>-0.485</td>\n",
       "      <td>-0.676</td>\n",
       "    </tr>\n",
       "    <tr>\n",
       "      <th>17</th>\n",
       "      <td>long</td>\n",
       "      <td>-122.519</td>\n",
       "      <td>-121.315</td>\n",
       "      <td>-122.214</td>\n",
       "      <td>-122.231</td>\n",
       "      <td>0.141</td>\n",
       "      <td>0.885</td>\n",
       "      <td>1.052</td>\n",
       "    </tr>\n",
       "    <tr>\n",
       "      <th>18</th>\n",
       "      <td>sqft_living15</td>\n",
       "      <td>399.000</td>\n",
       "      <td>6210.000</td>\n",
       "      <td>1986.651</td>\n",
       "      <td>1840.000</td>\n",
       "      <td>685.216</td>\n",
       "      <td>1.107</td>\n",
       "      <td>1.592</td>\n",
       "    </tr>\n",
       "    <tr>\n",
       "      <th>19</th>\n",
       "      <td>sqft_lot15</td>\n",
       "      <td>651.000</td>\n",
       "      <td>871200.000</td>\n",
       "      <td>12758.657</td>\n",
       "      <td>7620.000</td>\n",
       "      <td>27274.387</td>\n",
       "      <td>9.524</td>\n",
       "      <td>151.389</td>\n",
       "    </tr>\n",
       "  </tbody>\n",
       "</table>\n",
       "</div>"
      ],
      "text/plain": [
       "       attributes         min            max           mean         median            std   skew  kurtosis\n",
       "0              id 1000102.000 9900000190.000 4580575157.071 3904930470.000 2876697522.696  0.243    -1.261\n",
       "1           price   78000.000    7700000.000     540198.299     450000.000     367133.103  4.026    34.603\n",
       "2        bedrooms       1.000         11.000          3.372          3.000          0.904  0.551     1.797\n",
       "3       bathrooms       0.500          8.000          2.116          2.250          0.769  0.520     1.279\n",
       "4     sqft_living     370.000      13540.000       2080.343       1910.000        918.101  1.473     5.252\n",
       "5        sqft_lot     520.000    1651359.000      15099.830       7619.000      41412.591 13.072   285.483\n",
       "6          floors       1.000          3.500          1.494          1.500          0.540  0.614    -0.491\n",
       "7      waterfront       0.000          1.000          0.008          0.000          0.087 11.381   127.528\n",
       "8            view       0.000          4.000          0.234          0.000          0.766  3.396    10.895\n",
       "9       condition       1.000          5.000          3.410          3.000          0.650  1.036     0.520\n",
       "10          grade       3.000         13.000          7.658          7.000          1.173  0.788     1.135\n",
       "11     sqft_above     370.000       9410.000       1788.632       1560.000        827.744  1.447     3.405\n",
       "12  sqft_basement       0.000       4820.000        291.712          0.000        442.663  1.577     2.712\n",
       "13       yr_built    1900.000       2015.000       1971.001       1975.000         29.375 -0.470    -0.658\n",
       "14   yr_renovated       0.000       2015.000         84.469          0.000        401.821  4.547    18.683\n",
       "15        zipcode   98001.000      98199.000      98077.951      98065.000         53.513  0.405    -0.854\n",
       "16            lat      47.156         47.778         47.560         47.572          0.139 -0.485    -0.676\n",
       "17           long    -122.519       -121.315       -122.214       -122.231          0.141  0.885     1.052\n",
       "18  sqft_living15     399.000       6210.000       1986.651       1840.000        685.216  1.107     1.592\n",
       "19     sqft_lot15     651.000     871200.000      12758.657       7620.000      27274.387  9.524   151.389"
      ]
     },
     "execution_count": 26,
     "metadata": {},
     "output_type": "execute_result"
    }
   ],
   "source": [
    "numerical_attributes(df1)"
   ]
  },
  {
   "cell_type": "markdown",
   "id": "f59b9981",
   "metadata": {},
   "source": [
    "## ## Saving Dataset"
   ]
  },
  {
   "cell_type": "code",
   "execution_count": 27,
   "id": "b3a5790f",
   "metadata": {
    "ExecuteTime": {
     "end_time": "2022-03-16T23:51:10.863333Z",
     "start_time": "2022-03-16T23:51:10.298496Z"
    }
   },
   "outputs": [],
   "source": [
    "df1.to_csv( path_or_buf= '../datasets/transformed_data.csv', index=False )"
   ]
  }
 ],
 "metadata": {
  "kernelspec": {
   "display_name": "Python 3",
   "language": "python",
   "name": "python3"
  },
  "language_info": {
   "codemirror_mode": {
    "name": "ipython",
    "version": 3
   },
   "file_extension": ".py",
   "mimetype": "text/x-python",
   "name": "python",
   "nbconvert_exporter": "python",
   "pygments_lexer": "ipython3",
   "version": "3.8.10"
  }
 },
 "nbformat": 4,
 "nbformat_minor": 5
}
