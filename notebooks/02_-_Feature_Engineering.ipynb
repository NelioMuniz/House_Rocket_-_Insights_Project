{
 "cells": [
  {
   "cell_type": "markdown",
   "id": "0bce7674",
   "metadata": {},
   "source": [
    "# Feature Engineering - House Rocket Insights Project"
   ]
  },
  {
   "cell_type": "markdown",
   "id": "953e24f0",
   "metadata": {},
   "source": [
    "## 0.0. IMPORTS"
   ]
  },
  {
   "cell_type": "code",
   "execution_count": 1,
   "id": "3b60643e",
   "metadata": {
    "ExecuteTime": {
     "end_time": "2022-03-21T21:37:29.076611Z",
     "start_time": "2022-03-21T21:37:26.988848Z"
    }
   },
   "outputs": [],
   "source": [
    "import math\n",
    "import pandas  as pd\n",
    "import numpy   as np\n",
    "import seaborn as sns\n",
    "\n",
    "from IPython.core.display  import HTML\n",
    "from matplotlib            import pyplot as plt"
   ]
  },
  {
   "cell_type": "markdown",
   "id": "1da59647",
   "metadata": {},
   "source": [
    "## 0.1. Helper Functions"
   ]
  },
  {
   "cell_type": "code",
   "execution_count": 2,
   "id": "9ec01838",
   "metadata": {
    "ExecuteTime": {
     "end_time": "2022-03-21T21:37:30.501147Z",
     "start_time": "2022-03-21T21:37:30.460383Z"
    }
   },
   "outputs": [
    {
     "data": {
      "text/html": [
       "<style>.container { width:90% !important; }</style>"
      ],
      "text/plain": [
       "<IPython.core.display.HTML object>"
      ]
     },
     "metadata": {},
     "output_type": "display_data"
    }
   ],
   "source": [
    "def jupyter_settings():\n",
    "    %matplotlib inline\n",
    "        \n",
    "    plt.style.use( 'bmh' )\n",
    "    plt.rcParams['figure.figsize'] = (20,8)\n",
    "    plt.rcParams['font.size'] = 25\n",
    "    \n",
    "    display( HTML( '<style>.container { width:90% !important; }</style>') )\n",
    "    pd.options.display.max_columns = None\n",
    "    pd.options.display.max_rows = None\n",
    "    pd.set_option( 'display.expand_frame_repr', False )\n",
    "    pd.set_option('display.float_format', lambda x: '%.3f' % x)\n",
    "    \n",
    "    sns.set()\n",
    "    sns.set_theme(style = 'darkgrid', font_scale = 2)\n",
    "    sns.set_style(\"darkgrid\")\n",
    "    sns.set(rc={'figure.figsize':(20,8)})\n",
    "\n",
    "jupyter_settings()\n",
    "    \n",
    "def numerical_attributes(data):\n",
    "    num_attributes = data.select_dtypes(include=['int64', 'float64'])\n",
    "    \n",
    "    # Central tendency = mean, median\n",
    "    ct1 = pd.DataFrame(num_attributes.apply( np.mean) )\n",
    "    ct2 = pd.DataFrame(num_attributes.apply( np.median) )\n",
    "\n",
    "    # Dispersion = std, min, max, range, skew, kurtosis\n",
    "    d1 = pd.DataFrame( num_attributes.apply( np.std ) )\n",
    "    d2 = pd.DataFrame( num_attributes.apply( min ) )\n",
    "    d3 = pd.DataFrame( num_attributes.apply( max ) )\n",
    "    d4 = pd.DataFrame( num_attributes.apply( lambda x: x.max() - x.min() ) )\n",
    "    d5 = pd.DataFrame( num_attributes.apply( lambda x: x.skew() ) )\n",
    "    d6 = pd.DataFrame( num_attributes.apply( lambda x: x.kurtosis() ) )\n",
    "\n",
    "    # Concatenate\n",
    "    m = pd.concat( [d2, d3, ct1, ct2, d1, d5, d6], axis=1 ).reset_index()\n",
    "    m.columns = ['attributes', 'min', 'max', 'mean', 'median', 'std', 'skew', 'kurtosis']\n",
    "\n",
    "    return m"
   ]
  },
  {
   "cell_type": "markdown",
   "id": "f774644c",
   "metadata": {},
   "source": [
    "## 0.2. Loading Data"
   ]
  },
  {
   "cell_type": "code",
   "execution_count": 3,
   "id": "ab66c46e",
   "metadata": {
    "ExecuteTime": {
     "end_time": "2022-03-21T21:37:33.145808Z",
     "start_time": "2022-03-21T21:37:33.011239Z"
    }
   },
   "outputs": [],
   "source": [
    "df_raw = pd.read_csv('../datasets/transformed_data.csv', low_memory=False)"
   ]
  },
  {
   "cell_type": "code",
   "execution_count": 4,
   "id": "e757ea78",
   "metadata": {
    "ExecuteTime": {
     "end_time": "2022-03-21T21:37:34.068287Z",
     "start_time": "2022-03-21T21:37:34.044472Z"
    }
   },
   "outputs": [],
   "source": [
    "df1 = df_raw.copy()"
   ]
  },
  {
   "cell_type": "code",
   "execution_count": 5,
   "id": "37be801b",
   "metadata": {
    "ExecuteTime": {
     "end_time": "2022-03-21T21:37:35.001441Z",
     "start_time": "2022-03-21T21:37:34.954689Z"
    }
   },
   "outputs": [
    {
     "data": {
      "text/html": [
       "<div>\n",
       "<style scoped>\n",
       "    .dataframe tbody tr th:only-of-type {\n",
       "        vertical-align: middle;\n",
       "    }\n",
       "\n",
       "    .dataframe tbody tr th {\n",
       "        vertical-align: top;\n",
       "    }\n",
       "\n",
       "    .dataframe thead th {\n",
       "        text-align: right;\n",
       "    }\n",
       "</style>\n",
       "<table border=\"1\" class=\"dataframe\">\n",
       "  <thead>\n",
       "    <tr style=\"text-align: right;\">\n",
       "      <th></th>\n",
       "      <th>0</th>\n",
       "      <th>1</th>\n",
       "      <th>2</th>\n",
       "      <th>3</th>\n",
       "      <th>4</th>\n",
       "    </tr>\n",
       "  </thead>\n",
       "  <tbody>\n",
       "    <tr>\n",
       "      <th>id</th>\n",
       "      <td>7129300520</td>\n",
       "      <td>6414100192</td>\n",
       "      <td>5631500400</td>\n",
       "      <td>2487200875</td>\n",
       "      <td>1954400510</td>\n",
       "    </tr>\n",
       "    <tr>\n",
       "      <th>date</th>\n",
       "      <td>2014-10-13</td>\n",
       "      <td>2014-12-09</td>\n",
       "      <td>2015-02-25</td>\n",
       "      <td>2014-12-09</td>\n",
       "      <td>2015-02-18</td>\n",
       "    </tr>\n",
       "    <tr>\n",
       "      <th>price</th>\n",
       "      <td>221900.000</td>\n",
       "      <td>538000.000</td>\n",
       "      <td>180000.000</td>\n",
       "      <td>604000.000</td>\n",
       "      <td>510000.000</td>\n",
       "    </tr>\n",
       "    <tr>\n",
       "      <th>bedrooms</th>\n",
       "      <td>3</td>\n",
       "      <td>3</td>\n",
       "      <td>2</td>\n",
       "      <td>4</td>\n",
       "      <td>3</td>\n",
       "    </tr>\n",
       "    <tr>\n",
       "      <th>bathrooms</th>\n",
       "      <td>1.000</td>\n",
       "      <td>2.250</td>\n",
       "      <td>1.000</td>\n",
       "      <td>3.000</td>\n",
       "      <td>2.000</td>\n",
       "    </tr>\n",
       "    <tr>\n",
       "      <th>sqft_living</th>\n",
       "      <td>1180</td>\n",
       "      <td>2570</td>\n",
       "      <td>770</td>\n",
       "      <td>1960</td>\n",
       "      <td>1680</td>\n",
       "    </tr>\n",
       "    <tr>\n",
       "      <th>sqft_lot</th>\n",
       "      <td>5650</td>\n",
       "      <td>7242</td>\n",
       "      <td>10000</td>\n",
       "      <td>5000</td>\n",
       "      <td>8080</td>\n",
       "    </tr>\n",
       "    <tr>\n",
       "      <th>floors</th>\n",
       "      <td>1.000</td>\n",
       "      <td>2.000</td>\n",
       "      <td>1.000</td>\n",
       "      <td>1.000</td>\n",
       "      <td>1.000</td>\n",
       "    </tr>\n",
       "    <tr>\n",
       "      <th>waterfront</th>\n",
       "      <td>0</td>\n",
       "      <td>0</td>\n",
       "      <td>0</td>\n",
       "      <td>0</td>\n",
       "      <td>0</td>\n",
       "    </tr>\n",
       "    <tr>\n",
       "      <th>view</th>\n",
       "      <td>0</td>\n",
       "      <td>0</td>\n",
       "      <td>0</td>\n",
       "      <td>0</td>\n",
       "      <td>0</td>\n",
       "    </tr>\n",
       "    <tr>\n",
       "      <th>condition</th>\n",
       "      <td>3</td>\n",
       "      <td>3</td>\n",
       "      <td>3</td>\n",
       "      <td>5</td>\n",
       "      <td>3</td>\n",
       "    </tr>\n",
       "    <tr>\n",
       "      <th>grade</th>\n",
       "      <td>7</td>\n",
       "      <td>7</td>\n",
       "      <td>6</td>\n",
       "      <td>7</td>\n",
       "      <td>8</td>\n",
       "    </tr>\n",
       "    <tr>\n",
       "      <th>sqft_above</th>\n",
       "      <td>1180</td>\n",
       "      <td>2170</td>\n",
       "      <td>770</td>\n",
       "      <td>1050</td>\n",
       "      <td>1680</td>\n",
       "    </tr>\n",
       "    <tr>\n",
       "      <th>sqft_basement</th>\n",
       "      <td>0</td>\n",
       "      <td>400</td>\n",
       "      <td>0</td>\n",
       "      <td>910</td>\n",
       "      <td>0</td>\n",
       "    </tr>\n",
       "    <tr>\n",
       "      <th>yr_built</th>\n",
       "      <td>1955</td>\n",
       "      <td>1951</td>\n",
       "      <td>1933</td>\n",
       "      <td>1965</td>\n",
       "      <td>1987</td>\n",
       "    </tr>\n",
       "    <tr>\n",
       "      <th>yr_renovated</th>\n",
       "      <td>0</td>\n",
       "      <td>1991</td>\n",
       "      <td>0</td>\n",
       "      <td>0</td>\n",
       "      <td>0</td>\n",
       "    </tr>\n",
       "    <tr>\n",
       "      <th>zipcode</th>\n",
       "      <td>98178</td>\n",
       "      <td>98125</td>\n",
       "      <td>98028</td>\n",
       "      <td>98136</td>\n",
       "      <td>98074</td>\n",
       "    </tr>\n",
       "    <tr>\n",
       "      <th>lat</th>\n",
       "      <td>47.511</td>\n",
       "      <td>47.721</td>\n",
       "      <td>47.738</td>\n",
       "      <td>47.521</td>\n",
       "      <td>47.617</td>\n",
       "    </tr>\n",
       "    <tr>\n",
       "      <th>long</th>\n",
       "      <td>-122.257</td>\n",
       "      <td>-122.319</td>\n",
       "      <td>-122.233</td>\n",
       "      <td>-122.393</td>\n",
       "      <td>-122.045</td>\n",
       "    </tr>\n",
       "    <tr>\n",
       "      <th>sqft_living15</th>\n",
       "      <td>1340</td>\n",
       "      <td>1690</td>\n",
       "      <td>2720</td>\n",
       "      <td>1360</td>\n",
       "      <td>1800</td>\n",
       "    </tr>\n",
       "    <tr>\n",
       "      <th>sqft_lot15</th>\n",
       "      <td>5650</td>\n",
       "      <td>7639</td>\n",
       "      <td>8062</td>\n",
       "      <td>5000</td>\n",
       "      <td>7503</td>\n",
       "    </tr>\n",
       "  </tbody>\n",
       "</table>\n",
       "</div>"
      ],
      "text/plain": [
       "                        0           1           2           3           4\n",
       "id             7129300520  6414100192  5631500400  2487200875  1954400510\n",
       "date           2014-10-13  2014-12-09  2015-02-25  2014-12-09  2015-02-18\n",
       "price          221900.000  538000.000  180000.000  604000.000  510000.000\n",
       "bedrooms                3           3           2           4           3\n",
       "bathrooms           1.000       2.250       1.000       3.000       2.000\n",
       "sqft_living          1180        2570         770        1960        1680\n",
       "sqft_lot             5650        7242       10000        5000        8080\n",
       "floors              1.000       2.000       1.000       1.000       1.000\n",
       "waterfront              0           0           0           0           0\n",
       "view                    0           0           0           0           0\n",
       "condition               3           3           3           5           3\n",
       "grade                   7           7           6           7           8\n",
       "sqft_above           1180        2170         770        1050        1680\n",
       "sqft_basement           0         400           0         910           0\n",
       "yr_built             1955        1951        1933        1965        1987\n",
       "yr_renovated            0        1991           0           0           0\n",
       "zipcode             98178       98125       98028       98136       98074\n",
       "lat                47.511      47.721      47.738      47.521      47.617\n",
       "long             -122.257    -122.319    -122.233    -122.393    -122.045\n",
       "sqft_living15        1340        1690        2720        1360        1800\n",
       "sqft_lot15           5650        7639        8062        5000        7503"
      ]
     },
     "execution_count": 5,
     "metadata": {},
     "output_type": "execute_result"
    }
   ],
   "source": [
    "df1.head().T"
   ]
  },
  {
   "cell_type": "markdown",
   "id": "b40efc9a",
   "metadata": {},
   "source": [
    "## 2.0. FEATURE ENGINEERING"
   ]
  },
  {
   "cell_type": "code",
   "execution_count": 6,
   "id": "19d58157",
   "metadata": {
    "ExecuteTime": {
     "end_time": "2022-03-21T21:37:40.007445Z",
     "start_time": "2022-03-21T21:37:39.956711Z"
    }
   },
   "outputs": [],
   "source": [
    "# Creating a column 'price_median'\n",
    "aux1 = df1[['zipcode','price']].groupby('zipcode').median().reset_index()\n",
    "aux1.columns = ['zipcode','price_median']\n",
    "df2 = pd.merge(df1, aux1, on='zipcode', how='inner')"
   ]
  },
  {
   "cell_type": "code",
   "execution_count": 7,
   "id": "6104b890",
   "metadata": {
    "ExecuteTime": {
     "end_time": "2022-03-21T21:37:41.401156Z",
     "start_time": "2022-03-21T21:37:41.368279Z"
    }
   },
   "outputs": [],
   "source": [
    "# Creating a column 'size' according to living room size in squarefeet\n",
    "df2['size'] = df2['sqft_living'].apply(lambda x: 'tiny' if x < 1427 else\n",
    "                                               'small' if (x > 1427) & (x < 1910) else\n",
    "                                               'medium' if (x > 1910) & (x < 2550) else 'large')"
   ]
  },
  {
   "cell_type": "code",
   "execution_count": 8,
   "id": "a76124df",
   "metadata": {
    "ExecuteTime": {
     "end_time": "2022-03-21T21:37:44.767961Z",
     "start_time": "2022-03-21T21:37:44.732168Z"
    }
   },
   "outputs": [],
   "source": [
    "# Creating a column 'old' if the property was built before 1965\n",
    "df2['old'] = df2['yr_built'].apply(lambda x: 'yes' if x < 1965 else 'no')"
   ]
  },
  {
   "cell_type": "code",
   "execution_count": 24,
   "id": "57f26353",
   "metadata": {
    "ExecuteTime": {
     "end_time": "2022-03-21T21:48:05.825115Z",
     "start_time": "2022-03-21T21:47:59.961386Z"
    }
   },
   "outputs": [],
   "source": [
    "# Creating a column 'buy' to check if the house is able to buy or not\n",
    "df2['buy?'] = None\n",
    "\n",
    "df2.loc[1,'condition']\n",
    "\n",
    "for i in range (len(df2)):\n",
    "    if (df2.loc[i,'price'] < df2.loc[i,'price_median']) & (df2.loc[i,'condition'] > 2):\n",
    "        df2.loc[i,'buy?'] = 'yes'\n",
    "    else:\n",
    "        df2.loc[i,'buy?'] = 'no'"
   ]
  },
  {
   "cell_type": "code",
   "execution_count": 27,
   "id": "615d182f",
   "metadata": {
    "ExecuteTime": {
     "end_time": "2022-03-21T21:50:42.641990Z",
     "start_time": "2022-03-21T21:50:42.617703Z"
    }
   },
   "outputs": [
    {
     "data": {
      "text/plain": [
       "id                 int64\n",
       "date              object\n",
       "price            float64\n",
       "bedrooms           int64\n",
       "bathrooms        float64\n",
       "sqft_living        int64\n",
       "sqft_lot           int64\n",
       "floors           float64\n",
       "waterfront         int64\n",
       "view               int64\n",
       "condition          int64\n",
       "grade              int64\n",
       "sqft_above         int64\n",
       "sqft_basement      int64\n",
       "yr_built           int64\n",
       "yr_renovated       int64\n",
       "zipcode            int64\n",
       "lat              float64\n",
       "long             float64\n",
       "sqft_living15      int64\n",
       "sqft_lot15         int64\n",
       "price_median     float64\n",
       "size              object\n",
       "old               object\n",
       "buy?              object\n",
       "dtype: object"
      ]
     },
     "execution_count": 27,
     "metadata": {},
     "output_type": "execute_result"
    }
   ],
   "source": [
    "# Checking the new features\n",
    "df2.dtypes"
   ]
  },
  {
   "cell_type": "markdown",
   "id": "88a14921",
   "metadata": {},
   "source": [
    "## 2.1. Hypothesis List"
   ]
  },
  {
   "cell_type": "markdown",
   "id": "9f2a8833",
   "metadata": {},
   "source": [
    "**1.** Houses with no waterfront view are 30% cheaper on average.\n",
    "\n",
    "**2.** Houses built before 1965 are 50% cheaper on average.\n",
    "\n",
    "**3.** Houses without basement have lot size 40% bigger than houses with basement.\n",
    "\n",
    "**4.** Related to the houses year of built, there is a price increase of 10% YoY.\n",
    "\n",
    "**5.** Related to the date, houses with 3 bathrooms have a price increase of 15% MoM.\n",
    "\n",
    "**6.** Houses which has more than 5 bedrooms are 25% more expensive on average, comparing by the same size.\n",
    "\n",
    "**7.** Houses built before 1965 which were renovated are 60% more expensive than the houses not renovated from this period of time.\n",
    "\n",
    "**8.** Houses on zipcode that has the biggest median of prices are responsible for 70% of profits.\n",
    "\n",
    "**9.** Houses on zipcode that has the biggest median of prices correspond to 5% of the houses on sale.\n",
    "\n",
    "**10.** Houses renovated in the last 10 years are 50% more valuable than the ones which had renovated 10-20 years before 2015.\n"
   ]
  },
  {
   "cell_type": "markdown",
   "id": "f59b9981",
   "metadata": {},
   "source": [
    "## ## Saving Dataset"
   ]
  },
  {
   "cell_type": "code",
   "execution_count": 28,
   "id": "b3a5790f",
   "metadata": {
    "ExecuteTime": {
     "end_time": "2022-03-21T21:52:35.571120Z",
     "start_time": "2022-03-21T21:52:34.945301Z"
    }
   },
   "outputs": [],
   "source": [
    "df2.to_csv( path_or_buf= '../datasets/transformed_data_2.csv', index=False )"
   ]
  }
 ],
 "metadata": {
  "kernelspec": {
   "display_name": "Python 3 (ipykernel)",
   "language": "python",
   "name": "python3"
  },
  "language_info": {
   "codemirror_mode": {
    "name": "ipython",
    "version": 3
   },
   "file_extension": ".py",
   "mimetype": "text/x-python",
   "name": "python",
   "nbconvert_exporter": "python",
   "pygments_lexer": "ipython3",
   "version": "3.9.7"
  }
 },
 "nbformat": 4,
 "nbformat_minor": 5
}
